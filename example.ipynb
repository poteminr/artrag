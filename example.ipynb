{
 "cells": [
  {
   "cell_type": "code",
   "execution_count": 2,
   "metadata": {},
   "outputs": [],
   "source": [
    "import pandas as pd\n",
    "from sentence_transformers import SentenceTransformer\n",
    "from langchain.vectorstores import FAISS"
   ]
  },
  {
   "cell_type": "code",
   "execution_count": 3,
   "metadata": {},
   "outputs": [
    {
     "name": "stderr",
     "output_type": "stream",
     "text": [
      "/home/egorbl/programming/artrag/venv/lib/python3.12/site-packages/torch/cuda/__init__.py:129: UserWarning: CUDA initialization: CUDA unknown error - this may be due to an incorrectly set up environment, e.g. changing env variable CUDA_VISIBLE_DEVICES after program start. Setting the available devices to be zero. (Triggered internally at ../c10/cuda/CUDAFunctions.cpp:108.)\n",
      "  return torch._C._cuda_getDeviceCount() > 0\n",
      "`embedding_function` is expected to be an Embeddings object, support for passing in a function will soon be removed.\n"
     ]
    }
   ],
   "source": [
    "data = pd.read_csv(\"artists_df.csv\")\n",
    "data = data[data['wiki'].apply(lambda x: isinstance(x, str))]\n",
    "descriptions = data[\"wiki\"].tolist()\n",
    "\n",
    "descriptions = [el[:5000] for el in descriptions]\n",
    "data[\"wiki\"] = descriptions\n",
    "\n",
    "embedding_model = SentenceTransformer('all-MiniLM-L6-v2')\n",
    "embeddings = embedding_model.encode(descriptions)\n",
    "\n",
    "metadata = [{\"artist\": row['artist'], \"description\": row[\"description\"], \"wiki\": row[\"wiki\"]} for _, row in data.iterrows()]\n",
    "text_embeddings = zip(descriptions, embeddings)\n",
    "\n",
    "vector_store = FAISS.from_embeddings(text_embeddings, embedding_model, metadata)"
   ]
  },
  {
   "cell_type": "code",
   "execution_count": null,
   "metadata": {},
   "outputs": [],
   "source": [
    "from rag import ArtAssistant\n",
    "\n",
    "base_url = \"\"\n",
    "api_key = \"\"\n",
    "\n",
    "ass = ArtAssistant(vector_store, embedding_model, base_url, api_key, \"gpt-3.5-turbo\", 1)"
   ]
  },
  {
   "cell_type": "code",
   "execution_count": 5,
   "metadata": {},
   "outputs": [
    {
     "data": {
      "text/plain": [
       "'К сожалению, в предоставленной информации приводится информация только об одном кубисте - Жорже Браке (Georges Braque), родившемся 13 мая 1882 года.'"
      ]
     },
     "execution_count": 5,
     "metadata": {},
     "output_type": "execute_result"
    }
   ],
   "source": [
    "ass.handle_user_query(\"каких кубистов ты знаешь. с датами рождения\")"
   ]
  },
  {
   "cell_type": "code",
   "execution_count": null,
   "metadata": {},
   "outputs": [],
   "source": []
  }
 ],
 "metadata": {
  "kernelspec": {
   "display_name": "venv",
   "language": "python",
   "name": "python3"
  },
  "language_info": {
   "codemirror_mode": {
    "name": "ipython",
    "version": 3
   },
   "file_extension": ".py",
   "mimetype": "text/x-python",
   "name": "python",
   "nbconvert_exporter": "python",
   "pygments_lexer": "ipython3",
   "version": "3.12.3"
  }
 },
 "nbformat": 4,
 "nbformat_minor": 2
}
