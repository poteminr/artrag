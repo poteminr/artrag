{
 "cells": [
  {
   "cell_type": "code",
   "execution_count": 1,
   "metadata": {},
   "outputs": [],
   "source": [
    "import pandas as pd"
   ]
  },
  {
   "cell_type": "code",
   "execution_count": null,
   "metadata": {},
   "outputs": [],
   "source": [
    "classes = pd.read_csv(\"classes.csv\")\n",
    "artists = set(classes[\"artist\"])\n"
   ]
  },
  {
   "cell_type": "code",
   "execution_count": 64,
   "metadata": {},
   "outputs": [],
   "source": [
    "import wikipediaapi\n",
    "\n",
    "wiki = wikipediaapi.Wikipedia(language='en', user_agent=\"MyPythonApp/1.0 (https://example.com; contact@example.com)\")\n",
    "\n",
    "def fetch_wikipedia_page(artist_name):\n",
    "    page = wiki.page(artist_name)\n",
    "    if page.exists():\n",
    "        return page.text\n",
    "    else:\n",
    "        return None"
   ]
  },
  {
   "cell_type": "code",
   "execution_count": 65,
   "metadata": {},
   "outputs": [],
   "source": [
    "def generate_description(group):\n",
    "    descriptions = []\n",
    "    for _, row in group.iterrows():\n",
    "        description = row['description']\n",
    "        year = None\n",
    "        if len(description) >= 4:\n",
    "            prob_year = description[-4:]\n",
    "            if prob_year.isnumeric():\n",
    "                year = prob_year\n",
    "                description = description[:-5]\n",
    "        \n",
    "        result = description\n",
    "        if year:\n",
    "            result += f\" ({year})\"\n",
    "        descriptions.append(result)\n",
    "    return \", \".join(descriptions)"
   ]
  },
  {
   "cell_type": "code",
   "execution_count": null,
   "metadata": {},
   "outputs": [],
   "source": [
    "result = []\n",
    "\n",
    "for artist, group in classes.groupby('artist'):\n",
    "    description = generate_description(group)\n",
    "    artist_wiki = artist.split()\n",
    "\n",
    "    for i in range(len(artist_wiki)):\n",
    "        artist_wiki[i] = artist_wiki[i][0].upper() + artist_wiki[i][1:]\n",
    "        \n",
    "    artist_wiki = \" \".join(artist_wiki)\n",
    "    wiki_page = fetch_wikipedia_page(artist_wiki)\n",
    "    result.append({\"artist\": artist, \"description\": description, \"wiki\": wiki_page, \"wiki_name\": artist_wiki})"
   ]
  },
  {
   "cell_type": "code",
   "execution_count": 76,
   "metadata": {},
   "outputs": [
    {
     "data": {
      "text/html": [
       "<div>\n",
       "<style scoped>\n",
       "    .dataframe tbody tr th:only-of-type {\n",
       "        vertical-align: middle;\n",
       "    }\n",
       "\n",
       "    .dataframe tbody tr th {\n",
       "        vertical-align: top;\n",
       "    }\n",
       "\n",
       "    .dataframe thead th {\n",
       "        text-align: right;\n",
       "    }\n",
       "</style>\n",
       "<table border=\"1\" class=\"dataframe\">\n",
       "  <thead>\n",
       "    <tr style=\"text-align: right;\">\n",
       "      <th></th>\n",
       "      <th>artist</th>\n",
       "      <th>description</th>\n",
       "      <th>wiki</th>\n",
       "      <th>wiki_name</th>\n",
       "    </tr>\n",
       "  </thead>\n",
       "  <tbody>\n",
       "    <tr>\n",
       "      <th>0</th>\n",
       "      <td>a.y. jackson</td>\n",
       "      <td>algoma-in-november (1935), first-snow-algoma-c...</td>\n",
       "      <td>None</td>\n",
       "      <td>A.y. Jackson</td>\n",
       "    </tr>\n",
       "    <tr>\n",
       "      <th>1</th>\n",
       "      <td>aaron siskind</td>\n",
       "      <td>acolman-1 (1955), chicago-6 (1961), gloucester...</td>\n",
       "      <td>Aaron Siskind (December 4, 1903 – February 8, ...</td>\n",
       "      <td>Aaron Siskind</td>\n",
       "    </tr>\n",
       "    <tr>\n",
       "      <th>2</th>\n",
       "      <td>abdullah suriosubroto</td>\n",
       "      <td>air-terjun, bamboo-forest, indonesian-landscap...</td>\n",
       "      <td>None</td>\n",
       "      <td>Abdullah Suriosubroto</td>\n",
       "    </tr>\n",
       "    <tr>\n",
       "      <th>3</th>\n",
       "      <td>abidin dino</td>\n",
       "      <td>abstract-composition, antibes-1961-1, antibes ...</td>\n",
       "      <td>Abidin Dino (23 March 1913 – 7 December 1993) ...</td>\n",
       "      <td>Abidin Dino</td>\n",
       "    </tr>\n",
       "    <tr>\n",
       "      <th>4</th>\n",
       "      <td>abraham manievich</td>\n",
       "      <td>portrait-of-the-artist-s-wife (1929), unfinish...</td>\n",
       "      <td>Abraham Anshelovich Manievich (25 November 188...</td>\n",
       "      <td>Abraham Manievich</td>\n",
       "    </tr>\n",
       "  </tbody>\n",
       "</table>\n",
       "</div>"
      ],
      "text/plain": [
       "                  artist                                        description  \\\n",
       "0           a.y. jackson  algoma-in-november (1935), first-snow-algoma-c...   \n",
       "1          aaron siskind  acolman-1 (1955), chicago-6 (1961), gloucester...   \n",
       "2  abdullah suriosubroto  air-terjun, bamboo-forest, indonesian-landscap...   \n",
       "3            abidin dino  abstract-composition, antibes-1961-1, antibes ...   \n",
       "4      abraham manievich  portrait-of-the-artist-s-wife (1929), unfinish...   \n",
       "\n",
       "                                                wiki              wiki_name  \n",
       "0                                               None           A.y. Jackson  \n",
       "1  Aaron Siskind (December 4, 1903 – February 8, ...          Aaron Siskind  \n",
       "2                                               None  Abdullah Suriosubroto  \n",
       "3  Abidin Dino (23 March 1913 – 7 December 1993) ...            Abidin Dino  \n",
       "4  Abraham Anshelovich Manievich (25 November 188...      Abraham Manievich  "
      ]
     },
     "execution_count": 76,
     "metadata": {},
     "output_type": "execute_result"
    }
   ],
   "source": [
    "df = pd.DataFrame(result)\n",
    "df.to_csv(\"artists_df.csv\")\n",
    "\n",
    "df.head()"
   ]
  },
  {
   "cell_type": "code",
   "execution_count": null,
   "metadata": {},
   "outputs": [],
   "source": []
  }
 ],
 "metadata": {
  "kernelspec": {
   "display_name": "venv",
   "language": "python",
   "name": "python3"
  },
  "language_info": {
   "codemirror_mode": {
    "name": "ipython",
    "version": 3
   },
   "file_extension": ".py",
   "mimetype": "text/x-python",
   "name": "python",
   "nbconvert_exporter": "python",
   "pygments_lexer": "ipython3",
   "version": "3.12.3"
  }
 },
 "nbformat": 4,
 "nbformat_minor": 2
}
